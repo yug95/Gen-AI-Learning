{
  "nbformat": 4,
  "nbformat_minor": 0,
  "metadata": {
    "colab": {
      "provenance": []
    },
    "kernelspec": {
      "name": "python3",
      "display_name": "Python 3"
    },
    "language_info": {
      "name": "python"
    }
  },
  "cells": [
    {
      "cell_type": "code",
      "source": [
        "%pip install -qU langchain_mistralai"
      ],
      "metadata": {
        "id": "s5huJzloBBmF"
      },
      "execution_count": 15,
      "outputs": []
    },
    {
      "cell_type": "code",
      "source": [
        "import getpass\n",
        "import os\n",
        "from google.colab import userdata\n",
        "\n",
        "# Retrieve the API key and remove any leading/trailing whitespace\n",
        "api_key = userdata.get('random').strip()\n",
        "\n",
        "os.environ[\"MISTRAL_API_KEY\"] = api_key\n",
        "print(api_key)\n",
        "\n",
        "from langchain_mistralai import ChatMistralAI\n",
        "\n",
        "llm = ChatMistralAI(\n",
        "    model=\"mistral-large-latest\"\n",
        ")\n",
        "\n",
        "messages = [\n",
        "    (\n",
        "        \"system\",\n",
        "        \"You are a helpful assistant that translates English to French. Translate the user sentence.\",\n",
        "    ),\n",
        "    (\"human\", \"I love programming.\"),\n",
        "]\n",
        "\n",
        "ai_msg = llm.invoke(messages)\n",
        "print(ai_msg)"
      ],
      "metadata": {
        "colab": {
          "base_uri": "https://localhost:8080/"
        },
        "id": "dMqOE1lLA6BB",
        "outputId": "c9385be3-e0ec-4b72-c3cc-25f93f332011"
      },
      "execution_count": 25,
      "outputs": [
        {
          "output_type": "stream",
          "name": "stdout",
          "text": [
            "l7m1JkcHkTNdisc5ULFhmKvllCuBD1ij\n",
            "content=\"I love programming. = J'aime la programmation.\\n\\nHere's a breakdown:\\n- I love = J'aime\\n- programming = la programmation\" additional_kwargs={} response_metadata={'token_usage': {'prompt_tokens': 27, 'total_tokens': 67, 'completion_tokens': 40}, 'model_name': 'mistral-large-latest', 'model': 'mistral-large-latest', 'finish_reason': 'stop'} id='run--ccc1ea8f-1315-4506-8b3e-90f736a73b7c-0' usage_metadata={'input_tokens': 27, 'output_tokens': 40, 'total_tokens': 67}\n"
          ]
        }
      ]
    },
    {
      "cell_type": "code",
      "source": [],
      "metadata": {
        "id": "bB9C97uvBH8b"
      },
      "execution_count": null,
      "outputs": []
    }
  ]
}