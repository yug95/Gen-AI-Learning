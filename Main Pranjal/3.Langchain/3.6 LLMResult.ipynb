{
  "nbformat": 4,
  "nbformat_minor": 0,
  "metadata": {
    "colab": {
      "provenance": []
    },
    "kernelspec": {
      "name": "python3",
      "display_name": "Python 3"
    },
    "language_info": {
      "name": "python"
    }
  },
  "cells": [
    {
      "cell_type": "code",
      "source": [
        "from langchain_core.messages import HumanMessage\n",
        "\n",
        "#Using generate to get raw LLMResult\n",
        "result = llm.generate([\n",
        "    [HumanMessage(content=\"What is AI?\")],\n",
        "    [HumanMessage(content=\"What is ML?\")]\n",
        "])\n",
        "\n",
        "#Access the text outputs\n",
        "for i, gen_list in enumerate(result.generations):\n",
        "  print(f\"Prompt {i+1} response:\")\n",
        "  for gen in gen_list:\n",
        "    print(\"->\", gen.text)"
      ],
      "metadata": {
        "colab": {
          "base_uri": "https://localhost:8080/"
        },
        "id": "oeXS3F_yU4zv",
        "outputId": "dc24d41b-2668-4d5c-aee8-37758fe43c77"
      },
      "execution_count": 13,
      "outputs": [
        {
          "output_type": "stream",
          "name": "stdout",
          "text": [
            "Prompt 1 response:\n",
            "-> AI, or Artificial Intelligence, refers to the simulation of human intelligence in machines. These machines are designed to think and learn in a manner similar to humans. AI can be categorized into two broad types:\n",
            "\n",
            "1. **Narrow or Weak AI**: This type of AI is designed to do a narrow task (e.g., facial recognition, internet searches, or driving a car). It operates under a constrained set of capabilities.\n",
            "\n",
            "2. **General or Strong AI**: This is a more theoretical form of AI that understands, learns, and applies knowledge across various tasks at a level equal to or beyond human capabilities. It doesn't currently exist.\n",
            "\n",
            "Key aspects of AI include:\n",
            "\n",
            "- **Machine Learning (ML)**: A subset of AI that involves training algorithms to make predictions or decisions without being explicitly programmed. It learns patterns from data.\n",
            "\n",
            "- **Deep Learning**: A subset of machine learning that uses neural networks with many layers to analyze various factors. It's particularly good for image and speech recognition.\n",
            "\n",
            "- **Natural Language Processing (NLP)**: A branch of AI that deals with the interaction between computers and humans through natural language.\n",
            "\n",
            "- **Computer Vision**: A field of AI that enables computers to interpret and make decisions based on visual data from the world.\n",
            "\n",
            "- **Robotics**: A domain of AI concerned with building and using robots for various tasks.\n",
            "\n",
            "AI is used in a wide range of applications, from search algorithms and recommendation systems to voice assistants and autonomous vehicles. It's continually evolving and has significant implications for various industries and societies as a whole.\n",
            "Prompt 2 response:\n",
            "-> ML stands for Machine Learning, which is a subset of artificial intelligence (AI) that focuses on the development of algorithms and statistical models that enable computers to perform specific tasks without explicit instructions, relying on patterns and inference instead. Here are some key aspects of machine learning:\n",
            "\n",
            "1. **Learning from Data**: Machine learning algorithms learn from and make predictions or decisions based on data. The quality and quantity of the data are crucial for the performance of the ML model.\n",
            "\n",
            "2. **Types of Machine Learning**:\n",
            "   - **Supervised Learning**: The algorithm learns from labeled data, meaning it includes input-output pairs. The goal is to learn a mapping from inputs to outputs.\n",
            "   - **Unsupervised Learning**: The algorithm learns from unlabeled data, meaning it only has inputs and must find patterns and relationships on its own.\n",
            "   - **Reinforcement Learning**: The algorithm learns by interacting with an environment and receiving rewards or penalties based on its actions.\n",
            "   - **Semi-supervised Learning** and **Weakly Supervised Learning**: These are hybrid approaches that use a mix of labeled and unlabeled data, or use limited/weak labels.\n",
            "\n",
            "3. **Applications**: Machine learning is used in a wide variety of applications, such as:\n",
            "   - Image and speech recognition\n",
            "   - Natural language processing (e.g., sentiment analysis, machine translation)\n",
            "   - Recommender systems (e.g., Netflix, Amazon)\n",
            "   - Fraud detection\n",
            "   - Autonomous vehicles\n",
            "   - Predictive analytics (e.g., weather forecasting, stock market prediction)\n",
            "\n",
            "4. **Model Evaluation**: Machine learning models are evaluated using various metrics like accuracy, precision, recall, F1-score, AUC-ROC, etc., depending on the type of problem.\n",
            "\n",
            "5. **Libraries and Tools**: There are many libraries and tools for implementing machine learning models, such as scikit-learn, TensorFlow, Keras, PyTorch, and XGBoost, among others.\n"
          ]
        }
      ]
    }
  ]
}