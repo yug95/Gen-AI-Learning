{
  "nbformat": 4,
  "nbformat_minor": 0,
  "metadata": {
    "colab": {
      "provenance": []
    },
    "kernelspec": {
      "name": "python3",
      "display_name": "Python 3"
    },
    "language_info": {
      "name": "python"
    }
  },
  "cells": [
    {
      "cell_type": "code",
      "source": [
        "%pip install -qU langchain_mistralai"
      ],
      "metadata": {
        "id": "kzDXQWprpADp"
      },
      "execution_count": 7,
      "outputs": []
    },
    {
      "cell_type": "code",
      "source": [
        "import getpass\n",
        "import os\n",
        "from google.colab import userdata\n",
        "api_key = userdata.get('random').strip()\n",
        "os.environ[\"MISTRAL_API_KEY\"] = api_key\n",
        "from langchain_mistralai import ChatMistralAI\n",
        "llm = ChatMistralAI(model=\"mistral-large-latest\")\n",
        "from langchain.prompts import PromptTemplate\n",
        "\n",
        "#Creating a prompt sequential chain using SimpleSequentialChain\n",
        "prompt_template = PromptTemplate(\n",
        "    input_variable=['cuisine'],\n",
        "    template=\"I want to open a restaurant for {cuisine} food. Suggest some fancy name.\"\n",
        ")\n",
        "name_chain=LLMChain(llm=llm,prompt=prompt_template,output_key=\"restaurant_name\")\n",
        "\n",
        "prompt_template_items=PromptTemplate(\n",
        "    input_variables = ['restaurant_name'],\n",
        "    template=\"Suggest some menu items for {restaurant_name}.\"\n",
        ")\n",
        "food_items_chain=LLMChain(llm=llm,prompt=prompt_template_items,output_key=\"menu_items\")\n",
        "\n",
        "#importing the SequentialChain Function\n",
        "from langchain.chains import SequentialChain\n",
        "\n",
        "# SequentialChain from the langchain library to combine multiple chains in a\n",
        "# specific order. This allows you to pass the output of one chain as the input\n",
        "# to the next chain.\n",
        "\n",
        "chain=SequentialChain(\n",
        "    chains=[name_chain, food_items_chain],\n",
        "    input_variables=['cuisine'],\n",
        "    output_variables =['restaurant_name','menu_items']\n",
        ")\n",
        "\n",
        "chain({'cuisine':'Italian'})\n",
        "\n"
      ],
      "metadata": {
        "colab": {
          "base_uri": "https://localhost:8080/"
        },
        "id": "5SJqti9kq0NK",
        "outputId": "2a2e36dd-cb9d-44f6-e91c-e3baf55d56ef"
      },
      "execution_count": 16,
      "outputs": [
        {
          "output_type": "stream",
          "name": "stderr",
          "text": [
            "/tmp/ipython-input-16-1058270210.py:36: LangChainDeprecationWarning: The method `Chain.__call__` was deprecated in langchain 0.1.0 and will be removed in 1.0. Use :meth:`~invoke` instead.\n",
            "  chain({'cuisine':'Italian'})\n"
          ]
        },
        {
          "output_type": "execute_result",
          "data": {
            "text/plain": [
              "{'cuisine': 'Italian',\n",
              " 'restaurant_name': 'That sounds like an exciting venture! Here are some fancy Italian restaurant name suggestions:\\n\\n1. **Giardino Segreto** - \"Secret Garden\"\\n2. **Sapore Divino** - \"Divine Flavor\"\\n3. **La Luna Rossa** - \"The Red Moon\"\\n4. **Il Convivio** - \"The Banquet\"\\n5. **Ristorante Splendore** - \"Splendor Restaurant\"\\n6. **Villa Serenita** - \"Serenity Villa\"\\n7. **Palazzo dei Sapori** - \"Palace of Flavors\"\\n8. **Enoteca Angeli** - \"Wine Library of the Angels\"\\n9. **La Cucina dell\\'Amore** - \"The Kitchen of Love\"\\n10. **Il Sogno di Venezia** - \"The Dream of Venice\"\\n11. **Castello del Gusto** - \"Castle of Taste\"\\n12. **Fiore d\\'Italia** - \"Flower of Italy\"\\n13. **L\\'Arte Culinaria** - \"The Culinary Art\"\\n14. **Roma Eterna** - \"Eternal Rome\"\\n15. **La Dolce Vita** - \"The Sweet Life\"\\n\\nChoose a name that resonates with you and reflects the atmosphere and cuisine you plan to offer. Good luck with your Italian restaurant!',\n",
              " 'menu_items': \"Thank you for the wonderful restaurant name suggestions! Now, let's create a menu that reflects the elegance and richness of Italian cuisine. Here are some menu items suitable for a fancy Italian restaurant:\\n\\n### Antipasti (Appetizers)\\n1. **Carpaccio di Manzo** - Thinly sliced beef tenderloin with arugula, shaved Parmesan, and truffle oil.\\n2. **Bruschetta al Pomodoro** - Toasted bread topped with fresh tomatoes, basil, garlic, and olive oil.\\n3. **Burrata con Prosciutto** - Creamy burrata cheese served with slices of prosciutto and balsamic glaze.\\n4. **Crostini ai Funghi** - Toasted bread topped with sautéed mushrooms, garlic, and herbs.\\n5. **Insalata Caprese** - Fresh mozzarella, ripe tomatoes, basil, and olive oil.\\n\\n### Primi Piatti (First Courses)\\n1. **Risotto ai Funghi Porcini** - Creamy risotto with porcini mushrooms and Parmesan cheese.\\n2. **Tagliatelle al Tartufo Nero** - Fresh tagliatelle pasta with black truffle shavings and butter.\\n3. **Linguine alle Vongole** - Linguine pasta with clams, garlic, white wine, and red pepper flakes.\\n4. **Gnocchi al Gorgonzola e Noci** - Potato gnocchi with Gorgonzola cheese and walnuts.\\n5. **Ravioli di Zucca** - Homemade ravioli filled with butternut squash, served with sage butter.\\n\\n### Secondi Piatti (Main Courses)\\n1. **Ossobuco alla Milanese** - Slow-braised veal shanks with saffron risotto and gremolata.\\n2. **Branzino al Forno** - Whole roasted sea bass with lemon, herbs, and olive oil.\\n3. **Filetto di Manzo alla Griglia** - Grilled beef tenderloin with Barolo wine reduction and roasted vegetables.\\n4. **Pollo al Limone** - Lemon herb-roasted chicken with a side of polenta.\\n5. **Agnello Scottadito** - Grilled lamb chops with rosemary and garlic, served with roasted potatoes.\\n\\n### Contorni (Side Dishes)\\n1. **Patate al Rosmarino** - Roasted potatoes with rosemary and garlic.\\n2. **Insalata Mista** - Mixed greens salad with cherry tomatoes, cucumber, and balsamic vinaigrette.\\n3. **Spinaci Saltati** - Sautéed spinach with garlic and olive oil.\\n4. **Broccoli Ripassati** - Sautéed broccoli with garlic and red pepper flakes.\\n5. **Funghi Trifolati** - Sautéed mushrooms with garlic, parsley, and white wine.\\n\\n### Dolci (Desserts)\\n1. **Tiramisù** - Classic Italian dessert with ladyfingers soaked in coffee and rum, layered with mascarpone cheese.\\n2. **Panna Cotta** - Creamy vanilla panna cotta with fresh berry compote.\\n3. **Cannoli Siciliani** - Crispy pastry shells filled with sweet ricotta cheese and chocolate chips.\\n4. **Sorbetto al Limone** - Refreshing lemon sorbet.\\n5. **Torta al Cioccolato** - Rich chocolate cake with a molten center, served with vanilla gelato.\\n\\n### Bevande (Drinks)\\n1. **Prosecco** - Sparkling white wine from the Veneto region.\\n2. **Chianti Classico** - Classic red wine from Tuscany.\\n3. **Amarone della Valpolicella** - Rich and robust red wine from the Veneto region.\\n4. **Limoncello** - Traditional Italian lemon liqueur.\\n5. **Espresso** - Strong Italian coffee, perfect for ending the meal.\\n\\nThis menu offers a variety of traditional and innovative Italian dishes, ensuring a memorable dining experience for your guests. Buon appetito!\"}"
            ]
          },
          "metadata": {},
          "execution_count": 16
        }
      ]
    },
    {
      "cell_type": "code",
      "source": [],
      "metadata": {
        "id": "kjVvDyBduDoD"
      },
      "execution_count": null,
      "outputs": []
    }
  ]
}