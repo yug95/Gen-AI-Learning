{
  "nbformat": 4,
  "nbformat_minor": 0,
  "metadata": {
    "colab": {
      "provenance": []
    },
    "kernelspec": {
      "name": "python3",
      "display_name": "Python 3"
    },
    "language_info": {
      "name": "python"
    }
  },
  "cells": [
    {
      "cell_type": "code",
      "source": [
        "%pip install -qU langchain_mistralai"
      ],
      "metadata": {
        "id": "yIJwmROrArfr"
      },
      "execution_count": null,
      "outputs": []
    },
    {
      "cell_type": "code",
      "source": [
        "%pip install -qU langchain-community"
      ],
      "metadata": {
        "id": "gfDXqzUxA08y"
      },
      "execution_count": null,
      "outputs": []
    },
    {
      "cell_type": "code",
      "source": [
        "import getpass\n",
        "import os\n",
        "from google.colab import userdata\n",
        "api_key = userdata.get('random').strip()\n",
        "os.environ[\"MISTRAL_API_KEY\"] = api_key\n",
        "from langchain_mistralai import ChatMistralAI\n",
        "llm = ChatMistralAI(model=\"mistral-large-latest\",temperature=0.7)"
      ],
      "metadata": {
        "id": "Fsp244JaA6TU"
      },
      "execution_count": null,
      "outputs": []
    },
    {
      "cell_type": "code",
      "source": [
        "from langchain.chains import ConversationChain\n",
        "from langchain.memory import ConversationBufferMemory\n",
        "memory = ConversationBufferMemory()\n",
        "\n",
        "chat = ConversationChain(llm=llm , memory=memory)\n",
        "response = chat.run(\"Hello, Who are you?\")\n",
        "print(response)"
      ],
      "metadata": {
        "colab": {
          "base_uri": "https://localhost:8080/"
        },
        "id": "0bwRFIAABfdQ",
        "outputId": "e7787a26-c673-4ee3-f99e-c63e4a3660ca"
      },
      "execution_count": 10,
      "outputs": [
        {
          "output_type": "stream",
          "name": "stdout",
          "text": [
            "Hello! I'm an artificial intelligence designed to engage in conversation, provide information, and assist with questions to the best of my ability. I don't have personal experiences or emotions, but I'm here to help and make our interaction enjoyable and informative. I operate on a set of rules and a vast amount of data up until 2021, but I don't have real-time information or access to the internet. How about you? Who are you and how are you doing today? I'm all ears!\n"
          ]
        }
      ]
    },
    {
      "cell_type": "code",
      "source": [],
      "metadata": {
        "id": "qK0USe0xD75L"
      },
      "execution_count": null,
      "outputs": []
    }
  ]
}