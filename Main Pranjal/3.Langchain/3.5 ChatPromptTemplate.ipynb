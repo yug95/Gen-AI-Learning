{
  "nbformat": 4,
  "nbformat_minor": 0,
  "metadata": {
    "colab": {
      "provenance": []
    },
    "kernelspec": {
      "name": "python3",
      "display_name": "Python 3"
    },
    "language_info": {
      "name": "python"
    }
  },
  "cells": [
    {
      "cell_type": "code",
      "source": [
        "from langchain.prompts import ChatPromptTemplate, SystemMessagePromptTemplate, HumanMessagePromptTemplate\n",
        "from langchain.prompts import PromptTemplate\n",
        " # Define templates\n",
        "\n",
        "system_template = \"You are a helpful assistant.\"\n",
        "human_template = \"What is the weather in {location} ?\"\n",
        "\n",
        "#Create messages templates\n",
        "system_message = SystemMessagePromptTemplate.from_template(system_template)\n",
        "human_message = HumanMessagePromptTemplate.from_template(human_template)\n",
        "\n",
        "# Building the chat Prompt\n",
        "chat_prompt= ChatPromptTemplate.from_messages([system_message,human_message])\n",
        "\n",
        "#Format with input\n",
        "messages = chat_prompt.format_messages(location=\"Delhi\")\n",
        "\n",
        "#Result is a list of ChatMessages for the model\n",
        "print(messages)"
      ],
      "metadata": {
        "id": "J73n1R1ti33q",
        "colab": {
          "base_uri": "https://localhost:8080/"
        },
        "outputId": "f4d79ff2-958f-40a2-b672-caba23a87d0f"
      },
      "execution_count": 5,
      "outputs": [
        {
          "output_type": "stream",
          "name": "stdout",
          "text": [
            "[SystemMessage(content='You are a helpful assistant.', additional_kwargs={}, response_metadata={}), HumanMessage(content='What is the weather in Delhi ?', additional_kwargs={}, response_metadata={})]\n"
          ]
        }
      ]
    }
  ]
}