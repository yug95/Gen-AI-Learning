{
  "nbformat": 4,
  "nbformat_minor": 0,
  "metadata": {
    "colab": {
      "provenance": []
    },
    "kernelspec": {
      "name": "python3",
      "display_name": "Python 3"
    },
    "language_info": {
      "name": "python"
    }
  },
  "cells": [
    {
      "cell_type": "code",
      "source": [
        "%pip install -qU langchain_mistralai"
      ],
      "metadata": {
        "id": "yIJwmROrArfr"
      },
      "execution_count": null,
      "outputs": []
    },
    {
      "cell_type": "code",
      "source": [
        "%pip install -qU langchain-community"
      ],
      "metadata": {
        "id": "gfDXqzUxA08y"
      },
      "execution_count": null,
      "outputs": []
    },
    {
      "cell_type": "code",
      "source": [
        "import getpass\n",
        "import os\n",
        "from google.colab import userdata\n",
        "api_key = userdata.get('random').strip()\n",
        "os.environ[\"MISTRAL_API_KEY\"] = api_key\n",
        "from langchain_mistralai import ChatMistralAI\n",
        "llm = ChatMistralAI(model=\"mistral-large-latest\",temperature=0.7)"
      ],
      "metadata": {
        "id": "Fsp244JaA6TU"
      },
      "execution_count": null,
      "outputs": []
    },
    {
      "cell_type": "code",
      "source": [
        "from langchain.chains import LLMMathChain\n",
        "\n",
        "chain = LLMMathChain(llm=llm)\n",
        "result = chain.run(\"What is 25% of 300?\")\n",
        "print(result)"
      ],
      "metadata": {
        "colab": {
          "base_uri": "https://localhost:8080/"
        },
        "id": "PWZufWQgBAXQ",
        "outputId": "0b691706-7825-4017-c36c-a751d111a216"
      },
      "execution_count": 7,
      "outputs": [
        {
          "output_type": "stream",
          "name": "stderr",
          "text": [
            "/usr/local/lib/python3.11/dist-packages/langchain/chains/llm_math/base.py:175: UserWarning: Directly instantiating an LLMMathChain with an llm is deprecated. Please instantiate with llm_chain argument or using the from_llm class method.\n",
            "  warnings.warn(\n",
            "WARNING:langchain_mistralai.chat_models:Parameter `stop` not yet supported (https://docs.mistral.ai/api)\n"
          ]
        },
        {
          "output_type": "stream",
          "name": "stdout",
          "text": [
            "Answer:  75.0\n"
          ]
        }
      ]
    },
    {
      "cell_type": "code",
      "source": [],
      "metadata": {
        "id": "0bwRFIAABfdQ"
      },
      "execution_count": null,
      "outputs": []
    }
  ]
}