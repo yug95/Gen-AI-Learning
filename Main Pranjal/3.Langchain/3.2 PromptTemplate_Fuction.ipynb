{
  "nbformat": 4,
  "nbformat_minor": 0,
  "metadata": {
    "colab": {
      "provenance": []
    },
    "kernelspec": {
      "name": "python3",
      "display_name": "Python 3"
    },
    "language_info": {
      "name": "python"
    }
  },
  "cells": [
    {
      "cell_type": "code",
      "source": [
        "%pip install -qU langchain_mistralai"
      ],
      "metadata": {
        "id": "kzDXQWprpADp"
      },
      "execution_count": 7,
      "outputs": []
    },
    {
      "cell_type": "code",
      "source": [
        "import getpass\n",
        "import os\n",
        "from google.colab import userdata\n",
        "\n",
        "#retrieve the API key and remove any leading/trailing whitespace\n",
        "api_key = userdata.get('random').strip()\n",
        "\n",
        "os.environ[\"MISTRAL_API_KEY\"] = api_key\n",
        "\n",
        "from langchain_mistralai import ChatMistralAI\n",
        "llm = ChatMistralAI(model=\"mistral-large-latest\")\n",
        "\n",
        "#Importing the PromptTemplate function\n",
        "from langchain.prompts import PromptTemplate\n",
        "\n",
        "# PromptTemplate from the langchain library to create a reusable prompt for\n",
        "# generating restaurant names.\n",
        "\n",
        "prompt_template_name= PromptTemplate(\n",
        "    input_variables=['cuisine'],\n",
        "    template = \"I want to open a restaurant for {cuisine} food. Suggest me a fancy name.\"\n",
        ")\n",
        "prompt_template_name.format(cuisine=\"Indian\")"
      ],
      "metadata": {
        "id": "5SJqti9kq0NK",
        "outputId": "97be36d8-9dcc-432a-ea5a-5a499cef0f0b",
        "colab": {
          "base_uri": "https://localhost:8080/",
          "height": 36
        }
      },
      "execution_count": 11,
      "outputs": [
        {
          "output_type": "execute_result",
          "data": {
            "text/plain": [
              "'I want to open a restaurant for Indian food. Suggest me a fancy name.'"
            ],
            "application/vnd.google.colaboratory.intrinsic+json": {
              "type": "string"
            }
          },
          "metadata": {},
          "execution_count": 11
        }
      ]
    },
    {
      "cell_type": "code",
      "source": [],
      "metadata": {
        "id": "kjVvDyBduDoD"
      },
      "execution_count": null,
      "outputs": []
    }
  ]
}